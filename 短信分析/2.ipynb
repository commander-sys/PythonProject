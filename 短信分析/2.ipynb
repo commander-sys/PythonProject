{
 "cells": [
  {
   "cell_type": "code",
   "id": "initial_id",
   "metadata": {
    "collapsed": true,
    "ExecuteTime": {
     "end_time": "2025-07-09T09:54:32.650666Z",
     "start_time": "2025-07-09T09:54:32.021148Z"
    }
   },
   "source": [
    "\n",
    "\n",
    "import pandas as pd\n",
    "\n",
    "df = pd.read_csv('jh.csv', encoding='gbk')\n",
    "condition = (df[\"Content\"].str.contains(\"北京\", regex=True, na=False) & df[\"Content\"].str.contains(\"DC|dc\", regex=True,\n",
    "                                                                                                   na=False))\n",
    "dc_bj = df[condition]\n",
    "# dc_bj.shape\n",
    "dc_bj_xgw = dc_bj[dc_bj[\"Content\"].str.contains(\"XGW|xgw\", regex=True, na=False)]\n",
    "dc_bj_xgw.shape\n",
    "dc_bj_xgw.values\n",
    "ip_pattern = r'\\b(?:\\d{1,3}\\.){3}\\d{1,3}\\b'\n",
    "ip_list = dc_bj_xgw[\"Content\"].str.extract(f'({ip_pattern})')\n",
    "\n",
    "top_5_ip = ip_list.value_counts().head(5)\n",
    "top_5_ip"
   ],
   "outputs": [
    {
     "data": {
      "text/plain": [
       "0             \n",
       "10.227.131.75     40\n",
       "10.227.131.72     11\n",
       "10.227.138.136    10\n",
       "10.227.138.138    10\n",
       "10.234.129.134    10\n",
       "Name: count, dtype: int64"
      ]
     },
     "execution_count": 1,
     "metadata": {},
     "output_type": "execute_result"
    }
   ],
   "execution_count": 1
  },
  {
   "metadata": {
    "ExecuteTime": {
     "end_time": "2025-07-15T01:15:28.945934Z",
     "start_time": "2025-07-15T01:15:28.942294Z"
    }
   },
   "cell_type": "code",
   "source": [
    "import pandas as pd\n",
    "\n",
    "year = (pd.Timestamp.now()).strftime('%Y%m%d')\n",
    "year"
   ],
   "id": "5ecc3a505fcf90cf",
   "outputs": [
    {
     "data": {
      "text/plain": [
       "'20250715'"
      ]
     },
     "execution_count": 2,
     "metadata": {},
     "output_type": "execute_result"
    }
   ],
   "execution_count": 2
  },
  {
   "metadata": {
    "ExecuteTime": {
     "end_time": "2025-07-15T01:16:53.433348Z",
     "start_time": "2025-07-15T01:16:53.415425Z"
    }
   },
   "cell_type": "code",
   "source": "python - v",
   "id": "45857ba81e50ed3c",
   "outputs": [
    {
     "ename": "NameError",
     "evalue": "name 'python' is not defined",
     "output_type": "error",
     "traceback": [
      "\u001B[31m---------------------------------------------------------------------------\u001B[39m",
      "\u001B[31mNameError\u001B[39m                                 Traceback (most recent call last)",
      "\u001B[36mCell\u001B[39m\u001B[36m \u001B[39m\u001B[32mIn[4]\u001B[39m\u001B[32m, line 1\u001B[39m\n\u001B[32m----> \u001B[39m\u001B[32m1\u001B[39m python -v\n",
      "\u001B[31mNameError\u001B[39m: name 'python' is not defined"
     ]
    }
   ],
   "execution_count": 4
  }
 ],
 "metadata": {
  "kernelspec": {
   "display_name": "Python 3 (ipykernel)",
   "language": "python",
   "name": "python3"
  },
  "language_info": {
   "codemirror_mode": {
    "name": "ipython",
    "version": 2
   },
   "file_extension": ".py",
   "mimetype": "text/x-python",
   "name": "python",
   "nbconvert_exporter": "python",
   "pygments_lexer": "ipython2",
   "version": "2.7.6"
  }
 },
 "nbformat": 4,
 "nbformat_minor": 5
}
